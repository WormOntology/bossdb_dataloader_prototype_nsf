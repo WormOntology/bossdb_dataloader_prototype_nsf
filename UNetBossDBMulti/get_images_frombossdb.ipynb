{
 "cells": [
  {
   "cell_type": "code",
   "execution_count": 6,
   "metadata": {},
   "outputs": [],
   "source": [
    "# where to save images/masks\n",
    "base_save_dir = '/Users/jnaiman/Downloads/tmp/wormfindr/wormOntologyNSF/wormImages/'\n",
    "verbose = True"
   ]
  },
  {
   "cell_type": "code",
   "execution_count": 7,
   "metadata": {},
   "outputs": [],
   "source": [
    "IMAGE_DATASET_URI = \"bossdb://white1986/n2u/em\"\n",
    "SEGMASK_DATASET_URI = \"bossdb://white1986/n2u/seg\"\n",
    "\n",
    "# how many test/training centroids?\n",
    "NCENTROID_TRAIN = 100\n",
    "NCENTROID_TEST = 100\n",
    "\n",
    "NUM_CLASSES = 100 # assume we are just segmenting and not caring about kind\n",
    "\n",
    "# not a uniform dataset\n",
    "ZMIN,ZMAX = 143,159\n",
    "YMIN,YMAX = 3661,4685\n",
    "XMIN,XMAX = 5903,6927\n",
    "\n",
    "# this is a WHOLE THING\n",
    "ZSHIFT = 2\n",
    "\n",
    "# define the input image dimensions\n",
    "#INPUT_IMAGE_WIDTH = 256\n",
    "INPUT_IMAGE_WIDTH = 128\n",
    "\n",
    "INPUT_IMAGE_HEIGHT = INPUT_IMAGE_WIDTH"
   ]
  },
  {
   "cell_type": "code",
   "execution_count": 8,
   "metadata": {},
   "outputs": [
    {
     "name": "stdout",
     "output_type": "stream",
     "text": [
      "dataset shape= (303, 8346, 12830)\n",
      "image,mask uri= bossdb://white1986/n2u/em bossdb://white1986/n2u/seg\n"
     ]
    }
   ],
   "source": [
    "from dataset import BossDBSliceDataset\n",
    "# for bossdb\n",
    "from intern import array\n",
    "import config\n",
    "from numpy import random, column_stack\n",
    "\n",
    "# get dataset URI\n",
    "boss_uri_images = IMAGE_DATASET_URI\n",
    "boss_uri_masks = SEGMASK_DATASET_URI\n",
    "# JPN -- have to get dataset size and centroids\n",
    "channel = array(boss_uri_images)\n",
    "# get shape\n",
    "shape = channel.shape\n",
    "print('dataset shape=', shape)\n",
    "\n",
    "# select a set of centroids randomly\n",
    "ncentroid_train = NCENTROID_TRAIN\n",
    "ncentroid_test = NCENTROID_TEST\n",
    "zshift = config.ZSHIFT\n",
    "\n",
    "# sadly, we have to ping the dataset to find example indicies... sigh\n",
    "z = random.randint(config.ZMIN,config.ZMAX-zshift,size=ncentroid_train) # +/- 1\n",
    "y = random.randint(config.YMIN+config.INPUT_IMAGE_WIDTH//2,config.YMAX-config.INPUT_IMAGE_WIDTH//2,size=ncentroid_train)\n",
    "x = random.randint(config.XMIN+config.INPUT_IMAGE_WIDTH//2,config.XMAX-config.INPUT_IMAGE_WIDTH//2,size=ncentroid_train)\n",
    "centroids_train = column_stack([z,y,x])\n",
    "\n",
    "z = random.randint(config.ZMIN,config.ZMAX-1,size=ncentroid_test)\n",
    "y = random.randint(config.YMIN+config.INPUT_IMAGE_WIDTH//2,config.YMAX-config.INPUT_IMAGE_WIDTH//2,size=ncentroid_test)\n",
    "x = random.randint(config.XMIN+config.INPUT_IMAGE_WIDTH//2,config.XMAX-config.INPUT_IMAGE_WIDTH//2,size=ncentroid_test)\n",
    "centroids_test = column_stack([z,y,x])\n",
    "\n",
    "# create the train and test datasets\n",
    "trainDS = BossDBSliceDataset(image_boss_uri=boss_uri_images, mask_boss_uri=boss_uri_masks, \n",
    "                                centroid_list_zyx = centroids_train, \n",
    "                                boss_config = None, # None for public dataset\n",
    "                                px_radius_yx = [config.INPUT_IMAGE_WIDTH//2,config.INPUT_IMAGE_WIDTH//2],\n",
    "                                zshift=zshift, verbose=verbose)"
   ]
  },
  {
   "cell_type": "code",
   "execution_count": 14,
   "metadata": {},
   "outputs": [
    {
     "ename": "SystemExit",
     "evalue": "",
     "output_type": "error",
     "traceback": [
      "An exception has occurred, use %tb to see the full traceback.\n",
      "\u001b[0;31mSystemExit\u001b[0m\n"
     ]
    },
    {
     "name": "stderr",
     "output_type": "stream",
     "text": [
      "/opt/anaconda3/envs/WormOntology/lib/python3.10/site-packages/IPython/core/interactiveshell.py:3585: UserWarning: To exit: use 'exit', 'quit', or Ctrl-D.\n",
      "  warn(\"To exit: use 'exit', 'quit', or Ctrl-D.\", stacklevel=1)\n"
     ]
    }
   ],
   "source": [
    "# loop and take\n",
    "for i, X in enumerate(trainDS):\n",
    "    img = X[0]\n",
    "    msk = X[1]\n",
    "    import sys; sys.exit()"
   ]
  },
  {
   "cell_type": "code",
   "execution_count": 16,
   "metadata": {},
   "outputs": [
    {
     "data": {
      "text/plain": [
       "(3, 128, 128)"
      ]
     },
     "execution_count": 16,
     "metadata": {},
     "output_type": "execute_result"
    }
   ],
   "source": [
    "img.shape"
   ]
  },
  {
   "cell_type": "code",
   "execution_count": 13,
   "metadata": {},
   "outputs": [
    {
     "data": {
      "text/plain": [
       "(array([[[113., 119., 127., ..., 114., 127., 135.],\n",
       "         [113., 120., 126., ..., 113., 133., 142.],\n",
       "         [121., 122., 126., ..., 111., 134., 142.],\n",
       "         ...,\n",
       "         [106., 104.,  99., ..., 160., 161., 159.],\n",
       "         [105., 103.,  98., ..., 167., 166., 163.],\n",
       "         [103., 102.,  95., ..., 162., 162., 160.]],\n",
       " \n",
       "        [[113., 119., 127., ..., 114., 127., 135.],\n",
       "         [113., 120., 126., ..., 113., 133., 142.],\n",
       "         [121., 122., 126., ..., 111., 134., 142.],\n",
       "         ...,\n",
       "         [106., 104.,  99., ..., 160., 161., 159.],\n",
       "         [105., 103.,  98., ..., 167., 166., 163.],\n",
       "         [103., 102.,  95., ..., 162., 162., 160.]],\n",
       " \n",
       "        [[113., 119., 127., ..., 114., 127., 135.],\n",
       "         [113., 120., 126., ..., 113., 133., 142.],\n",
       "         [121., 122., 126., ..., 111., 134., 142.],\n",
       "         ...,\n",
       "         [106., 104.,  99., ..., 160., 161., 159.],\n",
       "         [105., 103.,  98., ..., 167., 166., 163.],\n",
       "         [103., 102.,  95., ..., 162., 162., 160.]]], dtype=float32),\n",
       " VolumeCutout([[64., 64., 64., ..., 64., 64., 64.],\n",
       "               [64., 64., 64., ..., 64., 64., 64.],\n",
       "               [64., 64., 64., ..., 64., 64., 64.],\n",
       "               ...,\n",
       "               [64., 64., 64., ..., 40., 40., 40.],\n",
       "               [64., 64., 64., ..., 40., 40., 40.],\n",
       "               [64., 64., 64., ..., 40., 40., 40.]], dtype=float32))"
      ]
     },
     "execution_count": 13,
     "metadata": {},
     "output_type": "execute_result"
    }
   ],
   "source": [
    "X[0], X[1]"
   ]
  },
  {
   "cell_type": "code",
   "execution_count": null,
   "metadata": {},
   "outputs": [],
   "source": []
  }
 ],
 "metadata": {
  "kernelspec": {
   "display_name": "WormOntology",
   "language": "python",
   "name": "python3"
  },
  "language_info": {
   "codemirror_mode": {
    "name": "ipython",
    "version": 3
   },
   "file_extension": ".py",
   "mimetype": "text/x-python",
   "name": "python",
   "nbconvert_exporter": "python",
   "pygments_lexer": "ipython3",
   "version": "3.10.15"
  }
 },
 "nbformat": 4,
 "nbformat_minor": 2
}
